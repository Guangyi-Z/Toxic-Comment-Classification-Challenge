{
 "cells": [
  {
   "cell_type": "code",
   "execution_count": 1,
   "metadata": {},
   "outputs": [],
   "source": [
    "import pickle\n",
    "import gensim\n",
    "import numpy as np\n",
    "import pandas as pd\n",
    "from sklearn.feature_extraction.text import CountVectorizer,TfidfVectorizer\n",
    "from collections import defaultdict"
   ]
  },
  {
   "cell_type": "code",
   "execution_count": 2,
   "metadata": {},
   "outputs": [],
   "source": [
    "train = pd.read_csv('data/train.csv')\n",
    "test = pd.read_csv('data/test.csv')\n",
    "subm = pd.read_csv('data/sample_submission.csv')"
   ]
  },
  {
   "cell_type": "code",
   "execution_count": 5,
   "metadata": {},
   "outputs": [
    {
     "name": "stdout",
     "output_type": "stream",
     "text": [
      "1 4 7\n",
      "1 4 8\n",
      "1 4 9\n",
      "1 5 7\n",
      "1 5 8\n",
      "1 5 9\n",
      "1 6 7\n",
      "1 6 8\n",
      "1 6 9\n",
      "2 4 7\n",
      "2 4 8\n",
      "2 4 9\n",
      "2 5 7\n",
      "2 5 8\n",
      "2 5 9\n",
      "2 6 7\n",
      "2 6 8\n",
      "2 6 9\n",
      "3 4 7\n",
      "3 4 8\n",
      "3 4 9\n",
      "3 5 7\n",
      "3 5 8\n",
      "3 5 9\n",
      "3 6 7\n",
      "3 6 8\n",
      "3 6 9\n"
     ]
    }
   ],
   "source": [
    "l1 = [1,2,3]\n",
    "l2 = [4,5,6]\n",
    "l3 = [7,8,9]\n",
    "\n",
    "for a1,a2,a3 in product(l1,l2,l3):\n",
    "    print(a1,a2,a3)"
   ]
  },
  {
   "cell_type": "code",
   "execution_count": 5,
   "metadata": {},
   "outputs": [],
   "source": [
    "'''\n",
    "Arguments:\n",
    "sentences=None, size=100, alpha=0.025, window=5, min_count=5, max_vocab_size=None, \n",
    "sample=0.001, seed=1, workers=3, min_alpha=0.0001, sg=0, hs=0, negative=5,\n",
    "cbow_mean=1, hashfxn=<built-in function hash>, iter=5, null_word=0, trim_rule=None, \n",
    "sorted_vocab=1, batch_words=10000, compute_loss=False, callbacks=()\n",
    "'''\n",
    "sg=1\n",
    "size=300\n",
    "window=10\n",
    "min_count=3\n",
    "# model = gensim.models.word2vec.Word2Vec(array_to_list(train_tokens), \n",
    "#                                         sg=sg, size=size, window=window, min_count=min_count)"
   ]
  },
  {
   "cell_type": "code",
   "execution_count": 10,
   "metadata": {
    "collapsed": true
   },
   "outputs": [],
   "source": [
    "model_name = '{0}-sz{1}-win{2}-minc{3}'.format('sg' if sg==1 else 'cbow', size, window, min_count)\n",
    "#model.save('data/w2v-' + model_name + '.model')"
   ]
  },
  {
   "cell_type": "code",
   "execution_count": 4,
   "metadata": {
    "collapsed": true
   },
   "outputs": [],
   "source": [
    "class TfidfEmbeddingVectorizer(object):\n",
    "    def __init__(self, word2vec):\n",
    "        self.word2vec = word2vec\n",
    "        self.word2weight = None\n",
    "        # if a text is empty we should return a vector of zeros\n",
    "        # with the same dimensionality as all the other vectors\n",
    "        self.dim = len(word2vec.vectors[0])\n",
    "\n",
    "    def fit(self, X, y):\n",
    "        # if a word was never seen - it must be at least as infrequent\n",
    "        # as any of the known words - so the default idf is the max of \n",
    "        # known idf's\n",
    "        max_idf = max(tfidf.idf_)\n",
    "        self.word2weight = defaultdict(\n",
    "            lambda: max_idf,\n",
    "            [(w, tfidf.idf_[i]) for w, i in tfidf.vocabulary_.items()])\n",
    "\n",
    "        return self\n",
    "\n",
    "    def transform(self, X):\n",
    "        return np.array([\n",
    "                np.mean([self.word2vec[w] * self.word2weight[w]\n",
    "                         for w in words if w in self.word2vec] or\n",
    "                        [np.zeros(self.dim)], axis=0)\n",
    "                for words in X\n",
    "            ])"
   ]
  },
  {
   "cell_type": "code",
   "execution_count": 6,
   "metadata": {
    "collapsed": true
   },
   "outputs": [],
   "source": [
    "model = gensim.models.word2vec.Word2Vec.load('data/w2v-sg-sz300-win10-minc3.model')"
   ]
  },
  {
   "cell_type": "code",
   "execution_count": 7,
   "metadata": {},
   "outputs": [],
   "source": [
    "embedding_vectorizer = TfidfEmbeddingVectorizer(model.wv)\n",
    "train_embedded = embedding_vectorizer.fit(train_tokens, None)"
   ]
  },
  {
   "cell_type": "code",
   "execution_count": 8,
   "metadata": {
    "collapsed": true
   },
   "outputs": [],
   "source": [
    "train_embedded = embedding_vectorizer.transform(train_tokens)\n",
    "test_embedded = embedding_vectorizer.transform(test_tokens)"
   ]
  },
  {
   "cell_type": "code",
   "execution_count": 9,
   "metadata": {
    "collapsed": true
   },
   "outputs": [],
   "source": [
    "from sklearn.linear_model import LogisticRegression\n",
    "\n",
    "label_cols = ['toxic', 'severe_toxic', 'obscene', 'threat', 'insult', 'identity_hate']\n",
    "preds = np.zeros((len(test), len(label_cols)))\n",
    "for i, j in enumerate(label_cols):\n",
    "    m = LogisticRegression()\n",
    "    mf = m.fit(train_embedded, train[j])\n",
    "    preds[:,i] = mf.predict_proba(test_embedded)[:,1]"
   ]
  },
  {
   "cell_type": "code",
   "execution_count": 11,
   "metadata": {
    "collapsed": true
   },
   "outputs": [],
   "source": [
    "submid = pd.DataFrame({'id': subm[\"id\"]})\n",
    "submission = pd.concat([submid, pd.DataFrame(preds, columns = label_cols)], axis=1)\n",
    "submission.to_csv('submission/submission-toxicw2v-doctfidf-lr-{}.csv'.format(model_name), index=False)"
   ]
  }
 ],
 "metadata": {
  "anaconda-cloud": {},
  "kernelspec": {
   "display_name": "Python 3",
   "language": "python",
   "name": "python3"
  },
  "language_info": {
   "codemirror_mode": {
    "name": "ipython",
    "version": 3
   },
   "file_extension": ".py",
   "mimetype": "text/x-python",
   "name": "python",
   "nbconvert_exporter": "python",
   "pygments_lexer": "ipython3",
   "version": "3.5.2"
  }
 },
 "nbformat": 4,
 "nbformat_minor": 1
}
