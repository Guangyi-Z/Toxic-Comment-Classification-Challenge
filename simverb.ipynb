{
 "cells": [
  {
   "cell_type": "code",
   "execution_count": 11,
   "metadata": {},
   "outputs": [],
   "source": [
    "import pandas as pd\n",
    "import numpy as np\n",
    "import gensim\n",
    "import preprocess"
   ]
  },
  {
   "cell_type": "code",
   "execution_count": 5,
   "metadata": {},
   "outputs": [],
   "source": [
    "data = preprocess.load()"
   ]
  },
  {
   "cell_type": "code",
   "execution_count": 12,
   "metadata": {},
   "outputs": [],
   "source": [
    "model = gensim.models.word2vec.Word2Vec.load('data/w2v-sg1-sz300-win5-minc1-hs0-neg5-iter25-samp0.001.model')"
   ]
  },
  {
   "cell_type": "code",
   "execution_count": 7,
   "metadata": {},
   "outputs": [
    {
     "name": "stdout",
     "output_type": "stream",
     "text": [
      "take\tremove\tV\t6.81\tSYNONYMS\n",
      "walk\ttrail\tV\t4.81\tCOHYPONYMS\n",
      "feed\tstarve\tV\t1.49\tANTONYMS\n",
      "shine\tpolish\tV\t7.80\tSYNONYMS\n",
      "calculate\tadd\tV\t5.98\tHYPER/HYPONYMS\n",
      "cheat\tsneak\tV\t3.65\tNONE\n",
      "pardon\tforgive\tV\t8.96\tHYPER/HYPONYMS\n",
      "smell\tsniff\tV\t7.97\tHYPER/HYPONYMS\n",
      "plow\tdig\tV\t6.64\tNONE\n",
      "believe\tpretend\tV\t1.66\tNONE\n"
     ]
    }
   ],
   "source": [
    "%%bash\n",
    "\n",
    "head "
   ]
  },
  {
   "cell_type": "code",
   "execution_count": 21,
   "metadata": {},
   "outputs": [],
   "source": [
    "df = pd.read_csv('data/simverb3500/SimVerb-3500.txt', delim_whitespace=True, header=None)\n",
    "df.columns = ['w1', 'w2', 'pos', 'sim', 'type']"
   ]
  },
  {
   "cell_type": "code",
   "execution_count": 32,
   "metadata": {},
   "outputs": [
    {
     "data": {
      "text/plain": [
       "[('taking', 0.5727024078369141),\n",
       " ('took', 0.5569777488708496),\n",
       " ('taken', 0.5412994623184204),\n",
       " ('68.45.60.20', 0.5404794812202454),\n",
       " ('judje', 0.5349901914596558),\n",
       " ('quck', 0.531893789768219),\n",
       " ('at40', 0.5231971740722656),\n",
       " ('malibu55', 0.5217158198356628),\n",
       " ('…to', 0.5184208154678345),\n",
       " ('bidness', 0.5108850598335266)]"
      ]
     },
     "execution_count": 32,
     "metadata": {},
     "output_type": "execute_result"
    }
   ],
   "source": [
    "knn"
   ]
  },
  {
   "cell_type": "code",
   "execution_count": 34,
   "metadata": {},
   "outputs": [
    {
     "name": "stdout",
     "output_type": "stream",
     "text": [
      "14 / 298 = 0.04697986577181208\n"
     ]
    }
   ],
   "source": [
    "total = 0\n",
    "n = 0\n",
    "\n",
    "all_words = set(w for w,i in data['vocabulary'].items())\n",
    "for w1, w2 in df[df['type'] == 'SYNONYMS'][['w1', 'w2']].values:\n",
    "    if w1 in all_words and w2 in all_words:\n",
    "        knn = model.wv.most_similar(positive=[w1])\n",
    "        total += 1 \n",
    "        n += 1 if w2 in set([w for w,s in knn]) else 0\n",
    "\n",
    "print('{0} / {1} = {2}'.format(n, total, n/total))"
   ]
  },
  {
   "cell_type": "code",
   "execution_count": 35,
   "metadata": {},
   "outputs": [],
   "source": [
    "googleembed = '/work/courses/unix/T/ELEC/E5550/data/embeddings/GoogleNews-vectors-negative300.bin.gz'\n",
    "gmodel = gensim.models.KeyedVectors.load_word2vec_format(googleembed, binary=True)"
   ]
  },
  {
   "cell_type": "code",
   "execution_count": 36,
   "metadata": {},
   "outputs": [
    {
     "name": "stderr",
     "output_type": "stream",
     "text": [
      "/u/67/zhangg1/unix/.local/lib/python3.5/site-packages/ipykernel_launcher.py:5: DeprecationWarning: Call to deprecated `wv` (Attribute will be removed in 4.0.0, use self instead).\n",
      "  \"\"\"\n"
     ]
    },
    {
     "name": "stdout",
     "output_type": "stream",
     "text": [
      "74 / 306 = 0.24183006535947713\n"
     ]
    }
   ],
   "source": [
    "total = 0\n",
    "n = 0\n",
    "\n",
    "for w1, w2 in df[df['type'] == 'SYNONYMS'][['w1', 'w2']].values:\n",
    "    knn = gmodel.wv.most_similar(positive=[w1])\n",
    "    total += 1 \n",
    "    n += 1 if w2 in set([w for w,s in knn]) else 0\n",
    "\n",
    "print('{0} / {1} = {2}'.format(n, total, n/total))"
   ]
  }
 ],
 "metadata": {
  "kernelspec": {
   "display_name": "Python 3",
   "language": "python",
   "name": "python3"
  },
  "language_info": {
   "codemirror_mode": {
    "name": "ipython",
    "version": 3
   },
   "file_extension": ".py",
   "mimetype": "text/x-python",
   "name": "python",
   "nbconvert_exporter": "python",
   "pygments_lexer": "ipython3",
   "version": "3.5.2"
  }
 },
 "nbformat": 4,
 "nbformat_minor": 2
}
