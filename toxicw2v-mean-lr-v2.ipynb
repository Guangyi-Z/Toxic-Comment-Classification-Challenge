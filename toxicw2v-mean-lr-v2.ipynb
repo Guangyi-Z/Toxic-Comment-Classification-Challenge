{
 "cells": [
  {
   "cell_type": "code",
   "execution_count": 3,
   "metadata": {},
   "outputs": [],
   "source": [
    "import pickle\n",
    "import gensim\n",
    "import numpy as np\n",
    "import pandas as pd\n",
    "from sklearn.feature_extraction.text import CountVectorizer,TfidfVectorizer\n",
    "from collections import defaultdict\n",
    "from preprocess import load"
   ]
  },
  {
   "cell_type": "code",
   "execution_count": 4,
   "metadata": {},
   "outputs": [],
   "source": [
    "train = pd.read_csv('data/train.csv')\n",
    "test = pd.read_csv('data/test.csv')\n",
    "subm = pd.read_csv('data/sample_submission.csv')"
   ]
  },
  {
   "cell_type": "code",
   "execution_count": 5,
   "metadata": {},
   "outputs": [],
   "source": [
    "data = load()"
   ]
  },
  {
   "cell_type": "code",
   "execution_count": 24,
   "metadata": {},
   "outputs": [],
   "source": [
    "'''\n",
    "Arguments:\n",
    "sentences=None, size=100, alpha=0.025, window=5, min_count=5, max_vocab_size=None, \n",
    "sample=0.001, seed=1, workers=3, min_alpha=0.0001, sg=0, hs=0, negative=5,\n",
    "cbow_mean=1, hashfxn=<built-in function hash>, iter=5, null_word=0, trim_rule=None, \n",
    "sorted_vocab=1, batch_words=10000, compute_loss=False, callbacks=()\n",
    "'''\n",
    "sg=1\n",
    "size=300\n",
    "window=10\n",
    "min_count=1\n",
    "iter=25\n",
    "model = gensim.models.word2vec.Word2Vec(data['train_tokens'], \n",
    "                                        sg=sg, size=size, window=window, min_count=min_count, iter=iter)\n",
    "\n",
    "model_name = '{0}-sz{1}-win{2}-minc{3}-iter{4}'.format('sg' if sg==1 else 'cbow', size, window, min_count, iter)\n",
    "model.save('data/w2v-' + model_name + '.model')"
   ]
  },
  {
   "cell_type": "code",
   "execution_count": 17,
   "metadata": {},
   "outputs": [],
   "source": [
    "model_name = 'w2v-sg0-sz300-win5-minc1-hs0-neg5-iter25-samp0.001'\n",
    "model = gensim.models.word2vec.Word2Vec.load('data/{}.model'.format(model_name))"
   ]
  },
  {
   "cell_type": "code",
   "execution_count": 18,
   "metadata": {},
   "outputs": [],
   "source": [
    "class MeanEmbeddingVectorizer(object):\n",
    "    def __init__(self, word2vec):\n",
    "        self.word2vec = word2vec\n",
    "        # if a text is empty we should return a vector of zeros\n",
    "        # with the same dimensionality as all the other vectors\n",
    "        self.dim = len(word2vec.vectors[0])\n",
    "\n",
    "    def fit(self, X, y=None):\n",
    "        return self\n",
    "\n",
    "    def transform(self, X):\n",
    "        return np.array([\n",
    "            np.mean([self.word2vec[w] for w in words if w in self.word2vec]\n",
    "                    or [np.zeros(self.dim)], axis=0)\n",
    "            for words in X\n",
    "        ])\n",
    "    \n",
    "    def fit_transform(self, X, y=None):\n",
    "        return self.transform(X)"
   ]
  },
  {
   "cell_type": "code",
   "execution_count": 19,
   "metadata": {},
   "outputs": [],
   "source": [
    "mean_embedding_vectorizer = MeanEmbeddingVectorizer(model.wv)\n",
    "train_mean_embedded = mean_embedding_vectorizer.transform(data['train_tokens'])\n",
    "test_mean_embedded = mean_embedding_vectorizer.transform(data['test_tokens'])"
   ]
  },
  {
   "cell_type": "code",
   "execution_count": 20,
   "metadata": {},
   "outputs": [],
   "source": [
    "from sklearn.linear_model import LogisticRegression\n",
    "\n",
    "label_cols = ['toxic', 'severe_toxic', 'obscene', 'threat', 'insult', 'identity_hate']\n",
    "preds = np.zeros((len(test), len(label_cols)))\n",
    "for i, j in enumerate(label_cols):\n",
    "    m = LogisticRegression()\n",
    "    mf = m.fit(train_mean_embedded, train[j])\n",
    "    preds[:,i] = mf.predict_proba(test_mean_embedded)[:,1]"
   ]
  },
  {
   "cell_type": "code",
   "execution_count": 21,
   "metadata": {},
   "outputs": [],
   "source": [
    "submid = pd.DataFrame({'id': subm[\"id\"]})\n",
    "submission = pd.concat([submid, pd.DataFrame(preds, columns = label_cols)], axis=1)\n",
    "submission.to_csv('submission/submission-toxicw2v-docmean-lr-{}.csv'.format(model_name), index=False)"
   ]
  }
 ],
 "metadata": {
  "anaconda-cloud": {},
  "kernelspec": {
   "display_name": "Python 3",
   "language": "python",
   "name": "python3"
  },
  "language_info": {
   "codemirror_mode": {
    "name": "ipython",
    "version": 3
   },
   "file_extension": ".py",
   "mimetype": "text/x-python",
   "name": "python",
   "nbconvert_exporter": "python",
   "pygments_lexer": "ipython3",
   "version": "3.5.2"
  }
 },
 "nbformat": 4,
 "nbformat_minor": 1
}
