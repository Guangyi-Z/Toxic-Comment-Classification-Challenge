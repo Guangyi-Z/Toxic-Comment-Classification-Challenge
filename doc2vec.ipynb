{
 "cells": [
  {
   "cell_type": "code",
   "execution_count": 1,
   "metadata": {},
   "outputs": [],
   "source": [
    "import pickle\n",
    "import gensim\n",
    "import numpy as np\n",
    "import pandas as pd\n",
    "from sklearn.feature_extraction.text import CountVectorizer,TfidfVectorizer\n",
    "from collections import defaultdict\n",
    "from sklearn.linear_model import LogisticRegression\n",
    "import time\n",
    "import preprocess\n",
    "from itertools import product"
   ]
  },
  {
   "cell_type": "code",
   "execution_count": 2,
   "metadata": {},
   "outputs": [],
   "source": [
    "train = pd.read_csv('data/train.csv')\n",
    "test = pd.read_csv('data/test.csv')\n",
    "subm = pd.read_csv('data/sample_submission.csv')"
   ]
  },
  {
   "cell_type": "code",
   "execution_count": 3,
   "metadata": {},
   "outputs": [],
   "source": [
    "data = preprocess.load()"
   ]
  },
  {
   "cell_type": "code",
   "execution_count": 17,
   "metadata": {},
   "outputs": [],
   "source": [
    "docs = []\n",
    "for uid, tokens in enumerate(data['train_tokens']):\n",
    "    docs.append(gensim.models.doc2vec.TaggedDocument(tokens, ['TRAIN_SENT %s' % uid]))"
   ]
  },
  {
   "cell_type": "code",
   "execution_count": 18,
   "metadata": {},
   "outputs": [],
   "source": [
    "model = gensim.models.doc2vec.Doc2Vec(docs)\n",
    "model.save('data/doc2vec')"
   ]
  },
  {
   "cell_type": "code",
   "execution_count": 24,
   "metadata": {},
   "outputs": [],
   "source": [
    "v = model.infer_vector(data['test_tokens'][0])\n",
    "sims = model.docvecs.most_similar([v], topn=10)"
   ]
  },
  {
   "cell_type": "code",
   "execution_count": 61,
   "metadata": {},
   "outputs": [],
   "source": [
    "# hits >= 1\n",
    "label_cols = ['toxic', 'severe_toxic', 'obscene', 'threat', 'insult', 'identity_hate']\n",
    "preds = np.zeros((len(test), len(label_cols)))\n",
    "for k, doc in enumerate(data['test_tokens']):\n",
    "    v = model.infer_vector(data['test_tokens'][k])\n",
    "    sims = model.docvecs.most_similar([v], topn=10)\n",
    "    ids = [(int(id.split()[1]), s) for id,s in sims]\n",
    "    hits = np.sum((np.vstack([(train[id:id+1][label_cols].values) for (id,s) in ids])), axis=0)\n",
    "    preds[k,:] = np.where(hits >= 1, 1, 0).tolist()\n",
    "\n",
    "submid = pd.DataFrame({'id': subm[\"id\"]})\n",
    "submission = pd.concat([submid, pd.DataFrame(preds, columns = label_cols)], axis=1)\n",
    "submission.to_csv('submission/submission-doc2vec-0or1.csv', index=False)"
   ]
  },
  {
   "cell_type": "code",
   "execution_count": 65,
   "metadata": {},
   "outputs": [],
   "source": [
    "label_cols = ['toxic', 'severe_toxic', 'obscene', 'threat', 'insult', 'identity_hate']\n",
    "preds = np.zeros((len(test), len(label_cols)))\n",
    "for k, doc in enumerate(data['test_tokens']):\n",
    "    v = model.infer_vector(data['test_tokens'][k])\n",
    "    sims = model.docvecs.most_similar([v], topn=10)\n",
    "    ids = [(int(id.split()[1]), s) for id,s in sims]\n",
    "    hits = np.sum((np.vstack([(train[id:id+1][label_cols].values) for (id,s) in ids])), axis=0)\n",
    "    preds[k,:] = (hits/10).tolist()\n",
    "\n",
    "submid = pd.DataFrame({'id': subm[\"id\"]})\n",
    "submission = pd.concat([submid, pd.DataFrame(preds, columns = label_cols)], axis=1)\n",
    "submission.to_csv('submission/submission-doc2vec-percentage.csv', index=False)"
   ]
  },
  {
   "cell_type": "code",
   "execution_count": 21,
   "metadata": {},
   "outputs": [
    {
     "data": {
      "text/plain": [
       "array([ 0.03369045, -0.02747776,  0.03844769,  0.05061621,  0.10103497,\n",
       "       -0.04662947,  0.06483382, -0.05166072,  0.11619633, -0.06861715,\n",
       "       -0.07906462, -0.05022816,  0.08388603, -0.08241028,  0.0599994 ,\n",
       "       -0.05640804,  0.00133157, -0.05157386,  0.09211881, -0.00694055,\n",
       "        0.08366387,  0.11108589, -0.01944638, -0.00126969,  0.00251589,\n",
       "       -0.17428024, -0.00572306,  0.03241219, -0.01736025, -0.07372978,\n",
       "       -0.00986082,  0.03882933,  0.02748811, -0.04585944,  0.10010006,\n",
       "        0.03222277,  0.0610371 ,  0.11278611, -0.01364839, -0.02170032,\n",
       "       -0.00025584, -0.04807695,  0.09582652, -0.10436545, -0.05588139,\n",
       "       -0.00790225, -0.05490515, -0.04990567, -0.01148711,  0.06806511,\n",
       "       -0.07195638,  0.04679437, -0.02065961,  0.02318708,  0.02759757,\n",
       "       -0.02615554, -0.10299507,  0.00969942,  0.02318759, -0.03136772,\n",
       "       -0.07193238,  0.02813243,  0.13022809,  0.04930704, -0.0454647 ,\n",
       "       -0.02204282, -0.00842689,  0.07592494, -0.02911519,  0.08197404,\n",
       "       -0.02830607, -0.05726458, -0.02175802,  0.00088021, -0.04278653,\n",
       "       -0.04775231,  0.00743978,  0.04291857, -0.08181977,  0.06784652,\n",
       "        0.02609045, -0.06661453,  0.0649778 ,  0.07711578,  0.14242853,\n",
       "        0.08276115, -0.11043921, -0.0044761 , -0.04499462, -0.01692794,\n",
       "       -0.02573135,  0.16371396, -0.03366488,  0.03388883,  0.03758994,\n",
       "        0.19892266,  0.13693357, -0.09245505, -0.04046609, -0.07101961])"
      ]
     },
     "execution_count": 21,
     "metadata": {},
     "output_type": "execute_result"
    }
   ],
   "source": [
    "train_embedded[0]"
   ]
  },
  {
   "cell_type": "code",
   "execution_count": 4,
   "metadata": {},
   "outputs": [],
   "source": [
    "model = gensim.models.doc2vec.Doc2Vec.load('data/doc2vec')"
   ]
  },
  {
   "cell_type": "code",
   "execution_count": 10,
   "metadata": {},
   "outputs": [
    {
     "data": {
      "text/plain": [
       "(100,)"
      ]
     },
     "execution_count": 10,
     "metadata": {},
     "output_type": "execute_result"
    }
   ],
   "source": [
    "model.docvecs[0].shape"
   ]
  },
  {
   "cell_type": "code",
   "execution_count": 12,
   "metadata": {},
   "outputs": [],
   "source": [
    "test_embedded = np.zeros((len(test), 100))\n",
    "for k, doc in enumerate(data['test_tokens']):\n",
    "    test_embedded[k,:] = model.infer_vector(data['test_tokens'][k])"
   ]
  },
  {
   "cell_type": "code",
   "execution_count": 19,
   "metadata": {},
   "outputs": [],
   "source": [
    "train_embedded = np.zeros((len(train), 100))\n",
    "for k in range(len(train)):\n",
    "    train_embedded[k,:] = model.docvecs[k]"
   ]
  },
  {
   "cell_type": "code",
   "execution_count": 22,
   "metadata": {},
   "outputs": [],
   "source": [
    "label_cols = ['toxic', 'severe_toxic', 'obscene', 'threat', 'insult', 'identity_hate']\n",
    "preds = np.zeros((len(test), len(label_cols)))\n",
    "for i, j in enumerate(label_cols):\n",
    "    m = LogisticRegression()\n",
    "    mf = m.fit(train_embedded, train[j])\n",
    "    preds[:,i] = mf.predict_proba(test_embedded)[:,1]"
   ]
  },
  {
   "cell_type": "code",
   "execution_count": 23,
   "metadata": {},
   "outputs": [],
   "source": [
    "submid = pd.DataFrame({'id': subm[\"id\"]})\n",
    "submission = pd.concat([submid, pd.DataFrame(preds, columns = label_cols)], axis=1)\n",
    "submission.to_csv('submission/submission-doc2vec-lr.csv', index=False)"
   ]
  }
 ],
 "metadata": {
  "kernelspec": {
   "display_name": "Python 3",
   "language": "python",
   "name": "python3"
  },
  "language_info": {
   "codemirror_mode": {
    "name": "ipython",
    "version": 3
   },
   "file_extension": ".py",
   "mimetype": "text/x-python",
   "name": "python",
   "nbconvert_exporter": "python",
   "pygments_lexer": "ipython3",
   "version": "3.5.2"
  }
 },
 "nbformat": 4,
 "nbformat_minor": 2
}
